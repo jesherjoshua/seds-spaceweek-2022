{
  "cells": [
    {
      "cell_type": "markdown",
      "metadata": {},
      "source": [
        "[![Open in Colab](https://colab.research.google.com/assets/colab-badge.svg)](https://colab.research.google.com/github/jesherjoshua/seds-spaceweek-2022/blob/mothership/intro/intro_to_python_and_data_science.ipynb)"
      ]
    },
    {
      "cell_type": "markdown",
      "metadata": {
        "id": "TD7XCxHN2SR1"
      },
      "source": [
        "# Intro to python and data science\n",
        "\n",
        "This notebook contains 2 parts\n",
        "- Basics of python\n",
        "- Intro to data science"
      ]
    },
    {
      "cell_type": "markdown",
      "metadata": {
        "id": "HCzNf5MS0QPp"
      },
      "source": [
        "## Basics of python"
      ]
    },
    {
      "cell_type": "markdown",
      "metadata": {
        "id": "blyHFo2SICCW"
      },
      "source": [
        "1. hello world\n",
        "1. data types\n",
        "  1. str\n",
        "  1. list\n",
        "  1. dict \n",
        "1. conditional statements\n",
        "1. loops\n",
        "1. functions\n",
        "1. python packages"
      ]
    },
    {
      "cell_type": "markdown",
      "metadata": {
        "id": "l00ndddO-gp8"
      },
      "source": [
        "#### Hello World"
      ]
    },
    {
      "cell_type": "code",
      "execution_count": 1,
      "metadata": {
        "colab": {
          "base_uri": "https://localhost:8080/"
        },
        "id": "jJNe0lLf-gTm",
        "outputId": "edd0be1c-5a6d-4163-9ebd-77445696c1e7"
      },
      "outputs": [
        {
          "name": "stdout",
          "output_type": "stream",
          "text": [
            "Hello world\n"
          ]
        }
      ],
      "source": [
        "print(\"Hello world\")"
      ]
    },
    {
      "cell_type": "markdown",
      "metadata": {
        "id": "7BDWUJ18-rQo"
      },
      "source": [
        "#### Data types"
      ]
    },
    {
      "cell_type": "code",
      "execution_count": 2,
      "metadata": {
        "id": "_T-0Dzmv-uD2"
      },
      "outputs": [],
      "source": [
        "# String\n",
        "a = \"some string\"\n",
        "\n",
        "# Integer\n",
        "b = 50\n",
        "\n",
        "# float\n",
        "c = 5.2\n",
        "\n",
        "# List\n",
        "d = ['a','b','c']\n",
        "\n",
        "# dictionary\n",
        "e= {\"apple\":3,\"mango\":0}"
      ]
    },
    {
      "cell_type": "markdown",
      "metadata": {
        "id": "oPHtjBJLDC5g"
      },
      "source": [
        "#### Conditional statements"
      ]
    },
    {
      "cell_type": "code",
      "execution_count": 3,
      "metadata": {
        "colab": {
          "base_uri": "https://localhost:8080/"
        },
        "id": "krHH6lYxDCnS",
        "outputId": "012d494b-a220-4bcf-f7e5-4f58f861748d"
      },
      "outputs": [
        {
          "name": "stdout",
          "output_type": "stream",
          "text": [
            "5 is greater than 0\n"
          ]
        }
      ],
      "source": [
        "a=5\n",
        "if a>0:\n",
        "  print(a,\"is greater than 0\")\n",
        "elif a<0:\n",
        "  print(a,\"is lesser than 0\")\n",
        "else:\n",
        "  print(a,\"is equal to 0\")"
      ]
    },
    {
      "cell_type": "markdown",
      "metadata": {
        "id": "SsLAvkmMDgja"
      },
      "source": [
        "#### Loops"
      ]
    },
    {
      "cell_type": "code",
      "execution_count": 4,
      "metadata": {
        "colab": {
          "base_uri": "https://localhost:8080/"
        },
        "id": "2W96DgfzDiq8",
        "outputId": "ccdbb798-2785-41d5-aaf9-4493ca457e69"
      },
      "outputs": [
        {
          "name": "stdout",
          "output_type": "stream",
          "text": [
            "0 1 2 3 4 5 6 7 8 9 \n",
            "10 9 8 7 6 5 4 3 2 1 "
          ]
        }
      ],
      "source": [
        "# for loop\n",
        "for i in range(10):\n",
        "  print(i, end=\" \")\n",
        "\n",
        "print()\n",
        "\n",
        "# while loop\n",
        "a=10\n",
        "while (a>0):\n",
        "  print(a, end=\" \")\n",
        "  a -= 1\n"
      ]
    },
    {
      "cell_type": "markdown",
      "metadata": {
        "id": "_JQt5cJ2E88D"
      },
      "source": [
        "#### functions"
      ]
    },
    {
      "cell_type": "code",
      "execution_count": 5,
      "metadata": {
        "colab": {
          "base_uri": "https://localhost:8080/"
        },
        "id": "adoAgH3pE_vb",
        "outputId": "7ae19053-5ee2-4e7a-913c-50248ab4aff7"
      },
      "outputs": [
        {
          "name": "stdout",
          "output_type": "stream",
          "text": [
            "sum is 15\n",
            "\n",
            "|\\---/|\n",
            "| o_o |\n",
            " \\_^_/\n"
          ]
        }
      ],
      "source": [
        "# inbuilt functions\n",
        "a = sum([1,2,3,4,5])\n",
        "print(\"sum is\",a)\n",
        "\n",
        "# user defined functions\n",
        "def print_cat():\n",
        "  cat=\"|\\---/|\\n| o_o |\\n \\_^_/\"\n",
        "  print()\n",
        "  print(cat)\n",
        "  \n",
        "print_cat()"
      ]
    },
    {
      "cell_type": "markdown",
      "metadata": {
        "id": "K-3_ZrKwGbsP"
      },
      "source": [
        "#### python packages\n",
        "\n",
        "A package is folder that contains various modules as files. \n",
        "\n",
        "A Python module may contain several classes, functions, variables, etc.\n",
        "\n",
        "These packages are very useful for various needs such as numpy for scientific computing, matplotlib for creating visualizations, etc. \n",
        "\n",
        "For data science, You'll be needing to work with a lot of different packages like pandas, numpy, matplotlib, sklearn, etc."
      ]
    },
    {
      "cell_type": "markdown",
      "metadata": {
        "id": "6VR-IGVD9gI4"
      },
      "source": [
        "##### numpy"
      ]
    },
    {
      "cell_type": "code",
      "execution_count": 6,
      "metadata": {
        "colab": {
          "base_uri": "https://localhost:8080/"
        },
        "id": "oabJ9_diGbf_",
        "outputId": "9d92ef69-b995-4db4-a491-796614c38da6"
      },
      "outputs": [
        {
          "name": "stdout",
          "output_type": "stream",
          "text": [
            "[[22 34]\n",
            " [46 74]]\n"
          ]
        }
      ],
      "source": [
        "import numpy as np\n",
        "\n",
        "A = [[2, 4],\n",
        "      [6, 8]]\n",
        "      \n",
        "B = [[1, 3],\n",
        "      [5, 7]]\n",
        "\n",
        "# matrix multiplication of 2 matrices\n",
        "\n",
        "print(np.matmul(A,B))"
      ]
    },
    {
      "cell_type": "markdown",
      "metadata": {
        "id": "9vwW_3Th9m07"
      },
      "source": [
        "##### pandas"
      ]
    },
    {
      "cell_type": "code",
      "execution_count": null,
      "metadata": {
        "id": "Pysrm1XP9okQ"
      },
      "outputs": [],
      "source": [
        "# code manipulating a simple dataframe"
      ]
    },
    {
      "cell_type": "markdown",
      "metadata": {
        "id": "nV4sif1v9jHx"
      },
      "source": [
        "##### matplotlib"
      ]
    },
    {
      "cell_type": "code",
      "execution_count": 7,
      "metadata": {
        "colab": {
          "base_uri": "https://localhost:8080/",
          "height": 265
        },
        "id": "Q7nb3ujHH2Fb",
        "outputId": "c8342d57-76be-43d4-f012-46de96e494dc"
      },
      "outputs": [
        {
          "data": {
            "image/png": "[encoded data removed]",
            "text/plain": [
              "<Figure size 432x288 with 1 Axes>"
            ]
          },
          "metadata": {
            "needs_background": "light"
          },
          "output_type": "display_data"
        }
      ],
      "source": [
        "# Code to plot a simple line plot\n",
        "\n",
        "from matplotlib import pyplot as plt\n",
        "  \n",
        "# x-axis values\n",
        "x = [5, 2, 9, 4, 7]\n",
        "  \n",
        "# Y-axis values\n",
        "y = [10, 5, 8, 4, 2]\n",
        "  \n",
        "# Function to plot\n",
        "plt.plot(x,y)\n",
        "  \n",
        "# function to show the plot\n",
        "plt.show()"
      ]
    },
    {
      "cell_type": "markdown",
      "metadata": {
        "id": "7_dZiFiy0Xev"
      },
      "source": [
        "## Intro to data science"
      ]
    },
    {
      "cell_type": "markdown",
      "metadata": {
        "id": "NrutarDcT6yP"
      },
      "source": [
        "\n",
        "1. What is data science?\n",
        "1. How to solve a problem using data science?\n",
        "1. A simple example (linear regression - Predicting salary based on years of experience)\n",
        "1. further examples? (astronomy related)"
      ]
    },
    {
      "cell_type": "markdown",
      "metadata": {
        "id": "5oiijCT2VKDb"
      },
      "source": [
        "#### What is data science?\n",
        "\n",
        "Data science is all about using data to solve problems. The problem could be decision making such as identifying which email is spam and which is not, predicting real estate prices, etc."
      ]
    },
    {
      "cell_type": "markdown",
      "metadata": {
        "id": "lbUkLr86ZMbM"
      },
      "source": [
        "#### how to solve a problem using data science? (create ppt)\n",
        "\n",
        "you might wonder how one goes on to solve a problem in machine learning. We're gonna take a look at it."
      ]
    },
    {
      "cell_type": "markdown",
      "metadata": {
        "id": "rmyAkSBPQOav"
      },
      "source": [
        "##### steps involved-\n",
        "\n",
        "1. **define your problem statement**\n",
        " \n",
        "  We need to define our problem and objective clearly.\n",
        "\n",
        "1. **collect data**\n",
        "\n",
        "  we have to gather data which we are going to analyse. This could be new data or data that is already available on the internet\n",
        "\n",
        "1. **data cleaning**\n",
        "\n",
        "  This is one of the most important step. We have to account for missing values in our dataset. There are multiple approaches to this like dropping rows of data, adding te mean value to the missing fields, etc.\n",
        "\n",
        "1. **Exploratory Data Analysis**\n",
        "\n",
        "  Here we try to understand the distribution of the data and also try to visualize the data and understand the relationship between various parameters tat we have in our dataset.\n",
        "\n",
        "1. **data preprocessing and feature selection**\n",
        "\n",
        "  Here we choose what features or data points are useful to us. \n",
        "  \n",
        "  For example, Floor area of a house is a very important feature that we'll need to predict price of a house. However, color of the paint has little to no effect\n",
        "\n",
        "1. **model development**\n",
        "\n",
        "  In this step, we try to train a model using machine learning algorithms. Differnt types of problems has better suited algorithms. \n",
        "  \n",
        "  For example, we would require Deep Convolutional Neural Network to Classify Photographs of Dogs and Cats whereas linear regression would work well for predicting salary of a person based on years of experience. \n",
        "\n",
        "1. **model evaluation and inferring results**\n",
        "\n",
        "  Here we will evaluate the results from the model, how accurately it's predicting and even fine tune the model. "
      ]
    },
    {
      "cell_type": "markdown",
      "metadata": {
        "id": "y8hd2-xYQYQx"
      },
      "source": [
        "#### Example 1 - Predicting salary based on years of experience"
      ]
    },
    {
      "cell_type": "code",
      "execution_count": 1,
      "metadata": {
        "id": "UlSZD0K6QtwO"
      },
      "outputs": [],
      "source": [
        "# import libraries\n",
        "import pandas as pd\n",
        "import matplotlib.pyplot as plt\n",
        "from sklearn.linear_model import LinearRegression\n",
        "from sklearn.model_selection import train_test_split "
      ]
    },
    {
      "cell_type": "code",
      "execution_count": 2,
      "metadata": {
        "colab": {
          "base_uri": "https://localhost:8080/",
          "height": 206
        },
        "id": "H0Zaw5fGQwc9",
        "outputId": "702c6c0b-2ec0-4372-cdb8-a8efbe77e843"
      },
      "outputs": [
        {
          "data": {
            "text/html": [
              "\n",
              "  <div id=\"df-8b6b87b4-a86f-4b20-9223-f2f708a493f0\">\n",
              "    <div class=\"colab-df-container\">\n",
              "      <div>\n",
              "<style scoped>\n",
              "    .dataframe tbody tr th:only-of-type {\n",
              "        vertical-align: middle;\n",
              "    }\n",
              "\n",
              "    .dataframe tbody tr th {\n",
              "        vertical-align: top;\n",
              "    }\n",
              "\n",
              "    .dataframe thead th {\n",
              "        text-align: right;\n",
              "    }\n",
              "</style>\n",
              "<table border=\"1\" class=\"dataframe\">\n",
              "  <thead>\n",
              "    <tr style=\"text-align: right;\">\n",
              "      <th></th>\n",
              "      <th>YearsExperience</th>\n",
              "      <th>Salary</th>\n",
              "    </tr>\n",
              "  </thead>\n",
              "  <tbody>\n",
              "    <tr>\n",
              "      <th>0</th>\n",
              "      <td>1.1</td>\n",
              "      <td>39343</td>\n",
              "    </tr>\n",
              "    <tr>\n",
              "      <th>1</th>\n",
              "      <td>1.3</td>\n",
              "      <td>46205</td>\n",
              "    </tr>\n",
              "    <tr>\n",
              "      <th>2</th>\n",
              "      <td>1.5</td>\n",
              "      <td>37731</td>\n",
              "    </tr>\n",
              "    <tr>\n",
              "      <th>3</th>\n",
              "      <td>2.0</td>\n",
              "      <td>43525</td>\n",
              "    </tr>\n",
              "    <tr>\n",
              "      <th>4</th>\n",
              "      <td>2.2</td>\n",
              "      <td>39891</td>\n",
              "    </tr>\n",
              "  </tbody>\n",
              "</table>\n",
              "</div>\n",
              "      <button class=\"colab-df-convert\" onclick=\"convertToInteractive('df-8b6b87b4-a86f-4b20-9223-f2f708a493f0')\"\n",
              "              title=\"Convert this dataframe to an interactive table.\"\n",
              "              style=\"display:none;\">\n",
              "        \n",
              "  <svg xmlns=\"http://www.w3.org/2000/svg\" height=\"24px\"viewBox=\"0 0 24 24\"\n",
              "       width=\"24px\">\n",
              "    <path d=\"M0 0h24v24H0V0z\" fill=\"none\"/>\n",
              "    <path d=\"M18.56 5.44l.94 2.06.94-2.06 2.06-.94-2.06-.94-.94-2.06-.94 2.06-2.06.94zm-11 1L8.5 8.5l.94-2.06 2.06-.94-2.06-.94L8.5 2.5l-.94 2.06-2.06.94zm10 10l.94 2.06.94-2.06 2.06-.94-2.06-.94-.94-2.06-.94 2.06-2.06.94z\"/><path d=\"M17.41 7.96l-1.37-1.37c-.4-.4-.92-.59-1.43-.59-.52 0-1.04.2-1.43.59L10.3 9.45l-7.72 7.72c-.78.78-.78 2.05 0 2.83L4 21.41c.39.39.9.59 1.41.59.51 0 1.02-.2 1.41-.59l7.78-7.78 2.81-2.81c.8-.78.8-2.07 0-2.86zM5.41 20L4 18.59l7.72-7.72 1.47 1.35L5.41 20z\"/>\n",
              "  </svg>\n",
              "      </button>\n",
              "      \n",
              "  <style>\n",
              "    .colab-df-container {\n",
              "      display:flex;\n",
              "      flex-wrap:wrap;\n",
              "      gap: 12px;\n",
              "    }\n",
              "\n",
              "    .colab-df-convert {\n",
              "      background-color: #E8F0FE;\n",
              "      border: none;\n",
              "      border-radius: 50%;\n",
              "      cursor: pointer;\n",
              "      display: none;\n",
              "      fill: #1967D2;\n",
              "      height: 32px;\n",
              "      padding: 0 0 0 0;\n",
              "      width: 32px;\n",
              "    }\n",
              "\n",
              "    .colab-df-convert:hover {\n",
              "      background-color: #E2EBFA;\n",
              "      box-shadow: 0px 1px 2px rgba(60, 64, 67, 0.3), 0px 1px 3px 1px rgba(60, 64, 67, 0.15);\n",
              "      fill: #174EA6;\n",
              "    }\n",
              "\n",
              "    [theme=dark] .colab-df-convert {\n",
              "      background-color: #3B4455;\n",
              "      fill: #D2E3FC;\n",
              "    }\n",
              "\n",
              "    [theme=dark] .colab-df-convert:hover {\n",
              "      background-color: #434B5C;\n",
              "      box-shadow: 0px 1px 3px 1px rgba(0, 0, 0, 0.15);\n",
              "      filter: drop-shadow(0px 1px 2px rgba(0, 0, 0, 0.3));\n",
              "      fill: #FFFFFF;\n",
              "    }\n",
              "  </style>\n",
              "\n",
              "      <script>\n",
              "        const buttonEl =\n",
              "          document.querySelector('#df-8b6b87b4-a86f-4b20-9223-f2f708a493f0 button.colab-df-convert');\n",
              "        buttonEl.style.display =\n",
              "          google.colab.kernel.accessAllowed ? 'block' : 'none';\n",
              "\n",
              "        async function convertToInteractive(key) {\n",
              "          const element = document.querySelector('#df-8b6b87b4-a86f-4b20-9223-f2f708a493f0');\n",
              "          const dataTable =\n",
              "            await google.colab.kernel.invokeFunction('convertToInteractive',\n",
              "                                                     [key], {});\n",
              "          if (!dataTable) return;\n",
              "\n",
              "          const docLinkHtml = 'Like what you see? Visit the ' +\n",
              "            '<a target=\"_blank\" href=https://colab.research.google.com/notebooks/data_table.ipynb>data table notebook</a>'\n",
              "            + ' to learn more about interactive tables.';\n",
              "          element.innerHTML = '';\n",
              "          dataTable['output_type'] = 'display_data';\n",
              "          await google.colab.output.renderOutput(dataTable, element);\n",
              "          const docLink = document.createElement('div');\n",
              "          docLink.innerHTML = docLinkHtml;\n",
              "          element.appendChild(docLink);\n",
              "        }\n",
              "      </script>\n",
              "    </div>\n",
              "  </div>\n",
              "  "
            ],
            "text/plain": [
              "   YearsExperience  Salary\n",
              "0              1.1   39343\n",
              "1              1.3   46205\n",
              "2              1.5   37731\n",
              "3              2.0   43525\n",
              "4              2.2   39891"
            ]
          },
          "execution_count": 2,
          "metadata": {},
          "output_type": "execute_result"
        }
      ],
      "source": [
        "url='https://s3.us-west-2.amazonaws.com/public.gamelab.fun/dataset/salary_data.csv'\n",
        "df=pd.read_csv(url)\n",
        "\n",
        "df.head()"
      ]
    },
    {
      "cell_type": "code",
      "execution_count": 3,
      "metadata": {
        "colab": {
          "base_uri": "https://localhost:8080/",
          "height": 300
        },
        "id": "nZ2cuvmMeOEj",
        "outputId": "0426b56c-a832-452f-951f-873bb28dd33b"
      },
      "outputs": [
        {
          "data": {
            "text/html": [
              "\n",
              "  <div id=\"df-df407243-d8e5-400e-8c2b-fee84e831ecf\">\n",
              "    <div class=\"colab-df-container\">\n",
              "      <div>\n",
              "<style scoped>\n",
              "    .dataframe tbody tr th:only-of-type {\n",
              "        vertical-align: middle;\n",
              "    }\n",
              "\n",
              "    .dataframe tbody tr th {\n",
              "        vertical-align: top;\n",
              "    }\n",
              "\n",
              "    .dataframe thead th {\n",
              "        text-align: right;\n",
              "    }\n",
              "</style>\n",
              "<table border=\"1\" class=\"dataframe\">\n",
              "  <thead>\n",
              "    <tr style=\"text-align: right;\">\n",
              "      <th></th>\n",
              "      <th>YearsExperience</th>\n",
              "      <th>Salary</th>\n",
              "    </tr>\n",
              "  </thead>\n",
              "  <tbody>\n",
              "    <tr>\n",
              "      <th>count</th>\n",
              "      <td>30.000000</td>\n",
              "      <td>30.000000</td>\n",
              "    </tr>\n",
              "    <tr>\n",
              "      <th>mean</th>\n",
              "      <td>5.313333</td>\n",
              "      <td>76003.000000</td>\n",
              "    </tr>\n",
              "    <tr>\n",
              "      <th>std</th>\n",
              "      <td>2.837888</td>\n",
              "      <td>27414.429785</td>\n",
              "    </tr>\n",
              "    <tr>\n",
              "      <th>min</th>\n",
              "      <td>1.100000</td>\n",
              "      <td>37731.000000</td>\n",
              "    </tr>\n",
              "    <tr>\n",
              "      <th>25%</th>\n",
              "      <td>3.200000</td>\n",
              "      <td>56720.750000</td>\n",
              "    </tr>\n",
              "    <tr>\n",
              "      <th>50%</th>\n",
              "      <td>4.700000</td>\n",
              "      <td>65237.000000</td>\n",
              "    </tr>\n",
              "    <tr>\n",
              "      <th>75%</th>\n",
              "      <td>7.700000</td>\n",
              "      <td>100544.750000</td>\n",
              "    </tr>\n",
              "    <tr>\n",
              "      <th>max</th>\n",
              "      <td>10.500000</td>\n",
              "      <td>122391.000000</td>\n",
              "    </tr>\n",
              "  </tbody>\n",
              "</table>\n",
              "</div>\n",
              "      <button class=\"colab-df-convert\" onclick=\"convertToInteractive('df-df407243-d8e5-400e-8c2b-fee84e831ecf')\"\n",
              "              title=\"Convert this dataframe to an interactive table.\"\n",
              "              style=\"display:none;\">\n",
              "        \n",
              "  <svg xmlns=\"http://www.w3.org/2000/svg\" height=\"24px\"viewBox=\"0 0 24 24\"\n",
              "       width=\"24px\">\n",
              "    <path d=\"M0 0h24v24H0V0z\" fill=\"none\"/>\n",
              "    <path d=\"M18.56 5.44l.94 2.06.94-2.06 2.06-.94-2.06-.94-.94-2.06-.94 2.06-2.06.94zm-11 1L8.5 8.5l.94-2.06 2.06-.94-2.06-.94L8.5 2.5l-.94 2.06-2.06.94zm10 10l.94 2.06.94-2.06 2.06-.94-2.06-.94-.94-2.06-.94 2.06-2.06.94z\"/><path d=\"M17.41 7.96l-1.37-1.37c-.4-.4-.92-.59-1.43-.59-.52 0-1.04.2-1.43.59L10.3 9.45l-7.72 7.72c-.78.78-.78 2.05 0 2.83L4 21.41c.39.39.9.59 1.41.59.51 0 1.02-.2 1.41-.59l7.78-7.78 2.81-2.81c.8-.78.8-2.07 0-2.86zM5.41 20L4 18.59l7.72-7.72 1.47 1.35L5.41 20z\"/>\n",
              "  </svg>\n",
              "      </button>\n",
              "      \n",
              "  <style>\n",
              "    .colab-df-container {\n",
              "      display:flex;\n",
              "      flex-wrap:wrap;\n",
              "      gap: 12px;\n",
              "    }\n",
              "\n",
              "    .colab-df-convert {\n",
              "      background-color: #E8F0FE;\n",
              "      border: none;\n",
              "      border-radius: 50%;\n",
              "      cursor: pointer;\n",
              "      display: none;\n",
              "      fill: #1967D2;\n",
              "      height: 32px;\n",
              "      padding: 0 0 0 0;\n",
              "      width: 32px;\n",
              "    }\n",
              "\n",
              "    .colab-df-convert:hover {\n",
              "      background-color: #E2EBFA;\n",
              "      box-shadow: 0px 1px 2px rgba(60, 64, 67, 0.3), 0px 1px 3px 1px rgba(60, 64, 67, 0.15);\n",
              "      fill: #174EA6;\n",
              "    }\n",
              "\n",
              "    [theme=dark] .colab-df-convert {\n",
              "      background-color: #3B4455;\n",
              "      fill: #D2E3FC;\n",
              "    }\n",
              "\n",
              "    [theme=dark] .colab-df-convert:hover {\n",
              "      background-color: #434B5C;\n",
              "      box-shadow: 0px 1px 3px 1px rgba(0, 0, 0, 0.15);\n",
              "      filter: drop-shadow(0px 1px 2px rgba(0, 0, 0, 0.3));\n",
              "      fill: #FFFFFF;\n",
              "    }\n",
              "  </style>\n",
              "\n",
              "      <script>\n",
              "        const buttonEl =\n",
              "          document.querySelector('#df-df407243-d8e5-400e-8c2b-fee84e831ecf button.colab-df-convert');\n",
              "        buttonEl.style.display =\n",
              "          google.colab.kernel.accessAllowed ? 'block' : 'none';\n",
              "\n",
              "        async function convertToInteractive(key) {\n",
              "          const element = document.querySelector('#df-df407243-d8e5-400e-8c2b-fee84e831ecf');\n",
              "          const dataTable =\n",
              "            await google.colab.kernel.invokeFunction('convertToInteractive',\n",
              "                                                     [key], {});\n",
              "          if (!dataTable) return;\n",
              "\n",
              "          const docLinkHtml = 'Like what you see? Visit the ' +\n",
              "            '<a target=\"_blank\" href=https://colab.research.google.com/notebooks/data_table.ipynb>data table notebook</a>'\n",
              "            + ' to learn more about interactive tables.';\n",
              "          element.innerHTML = '';\n",
              "          dataTable['output_type'] = 'display_data';\n",
              "          await google.colab.output.renderOutput(dataTable, element);\n",
              "          const docLink = document.createElement('div');\n",
              "          docLink.innerHTML = docLinkHtml;\n",
              "          element.appendChild(docLink);\n",
              "        }\n",
              "      </script>\n",
              "    </div>\n",
              "  </div>\n",
              "  "
            ],
            "text/plain": [
              "       YearsExperience         Salary\n",
              "count        30.000000      30.000000\n",
              "mean          5.313333   76003.000000\n",
              "std           2.837888   27414.429785\n",
              "min           1.100000   37731.000000\n",
              "25%           3.200000   56720.750000\n",
              "50%           4.700000   65237.000000\n",
              "75%           7.700000  100544.750000\n",
              "max          10.500000  122391.000000"
            ]
          },
          "execution_count": 3,
          "metadata": {},
          "output_type": "execute_result"
        }
      ],
      "source": [
        "df.describe()"
      ]
    },
    {
      "cell_type": "code",
      "execution_count": 4,
      "metadata": {
        "id": "nIXF8Gy5eE_9"
      },
      "outputs": [],
      "source": [
        "# data\n",
        "X = df.drop('Salary',axis='columns') # YearsExperience\n",
        "y = df.drop('YearsExperience',axis='columns') # Salary"
      ]
    },
    {
      "cell_type": "code",
      "execution_count": 5,
      "metadata": {
        "id": "OI0rkXUHQ0U0"
      },
      "outputs": [],
      "source": [
        "# split the data into training and test data\n",
        "X_train, X_test, y_train, y_test = train_test_split(X, y, test_size=0.3)"
      ]
    },
    {
      "cell_type": "code",
      "execution_count": 6,
      "metadata": {
        "id": "QR2LhfQaQ3AJ"
      },
      "outputs": [],
      "source": [
        "# make an instance of LinearRegression and train the model\n",
        "model = LinearRegression()\n",
        "_a = model.fit(X_train,y_train)"
      ]
    },
    {
      "cell_type": "code",
      "execution_count": 7,
      "metadata": {
        "colab": {
          "base_uri": "https://localhost:8080/",
          "height": 295
        },
        "id": "LNKFZOcGQ5cF",
        "outputId": "bf3e8db8-e01a-49d2-b700-2409a978b26a"
      },
      "outputs": [
        {
          "data": {
            "image/png": "[encoded data removed]",
            "text/plain": [
              "<Figure size 432x288 with 1 Axes>"
            ]
          },
          "metadata": {
            "needs_background": "light"
          },
          "output_type": "display_data"
        }
      ],
      "source": [
        "# training data\n",
        "\n",
        "# plot the predicted values and actual values for visualization\n",
        "plt.title('Salary vs work experience graph (Training model)')\n",
        "plt.xlabel('Experience in Years')\n",
        "plt.ylabel('Salary')\n",
        "plt.scatter(X_train ,y_train,color='Red')\n",
        "plt.plot(X_train, model.predict(X_train), color='blue')\n",
        "plt.show()"
      ]
    },
    {
      "cell_type": "code",
      "execution_count": 8,
      "metadata": {
        "colab": {
          "base_uri": "https://localhost:8080/",
          "height": 295
        },
        "id": "vyaQ2bYEQ88x",
        "outputId": "04016a11-8386-4f14-8195-580e2748744f"
      },
      "outputs": [
        {
          "data": {
            "image/png": "[encoded data removed]",
            "text/plain": [
              "<Figure size 432x288 with 1 Axes>"
            ]
          },
          "metadata": {
            "needs_background": "light"
          },
          "output_type": "display_data"
        }
      ],
      "source": [
        "# test data\n",
        "\n",
        "# plot the predicted values and actual values for visualization(test data)\n",
        "plt.title('Salary vs work experience graph (test model)')\n",
        "plt.xlabel('Experience in Years')\n",
        "plt.ylabel('Salary')\n",
        "plt.scatter(X_test ,y_test,color='Red')\n",
        "plt.plot(X_test, model.predict(X_test), color='blue')\n",
        "plt.show()"
      ]
    },
    {
      "cell_type": "code",
      "execution_count": 10,
      "metadata": {
        "colab": {
          "base_uri": "https://localhost:8080/"
        },
        "id": "BrYYqXydRLlv",
        "outputId": "0bbb4e80-38bb-4334-a316-5d83cf6b0587"
      },
      "outputs": [
        {
          "name": "stdout",
          "output_type": "stream",
          "text": [
            "enter the years of experience to predict the salary: 7\n",
            "Expected salary: [91039.02780052]\n"
          ]
        },
        {
          "name": "stderr",
          "output_type": "stream",
          "text": [
            "/usr/local/lib/python3.7/dist-packages/sklearn/base.py:451: UserWarning: X does not have valid feature names, but LinearRegression was fitted with feature names\n",
            "  \"X does not have valid feature names, but\"\n"
          ]
        }
      ],
      "source": [
        "# predict salary \n",
        "exp = float(input('enter the years of experience to predict the salary: '))\n",
        "\n",
        "salary = model.predict([[exp]])\n",
        "\n",
        "print(f\"Expected salary: {salary[0]}\")"
      ]
    },
    {
      "cell_type": "markdown",
      "metadata": {
        "id": "UxfV7BpQACrm"
      },
      "source": [
        "## references- \n",
        "\n",
        "https://www.educative.io/blog/numpy-matrix-multiplication\n",
        "\n",
        "https://towardsdatascience.com/9-steps-for-solving-data-science-problems-dc3c238cb58c\n",
        "\n",
        "https://towardsdatascience.com/intro-to-data-science-531079c38b22"
      ]
    }
  ],
  "metadata": {
    "colab": {
      "collapsed_sections": [
        "HCzNf5MS0QPp"
      ],
      "provenance": [],
      "toc_visible": true
    },
    "kernelspec": {
      "display_name": "Python 3.8.10 64-bit",
      "language": "python",
      "name": "python3"
    },
    "language_info": {
      "name": "python",
      "version": "3.8.10"
    },
    "vscode": {
      "interpreter": {
        "hash": "31f2aee4e71d21fbe5cf8b01ff0e069b9275f58929596ceb00d14d90e3e16cd6"
      }
    }
  },
  "nbformat": 4,
  "nbformat_minor": 0
}
