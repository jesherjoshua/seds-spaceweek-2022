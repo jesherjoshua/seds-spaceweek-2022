{
 "cells": [
  {
   "cell_type": "markdown",
   "metadata": {},
   "source": [
    "[![Open in Colab](https://colab.research.google.com/assets/colab-badge.svg)](https://colab.research.google.com/github/jesherjoshua/seds-spaceweek-2022/blob/mothership/pulsars/pulsars.ipynb)"
   ]
  },
  {
   "cell_type": "code",
   "execution_count": null,
   "metadata": {},
   "outputs": [],
   "source": [
    "import numpy as np\n",
    "from astropy.io import fits\n",
    "from time import time\n",
    "from time import perf_counter\n",
    "import sys\n",
    "import os\n",
    "from timeit import timeit\n",
    "import random\n",
    "import matplotlib.pyplot as plt "
   ]
  },
  {
   "cell_type": "markdown",
   "metadata": {},
   "source": [
    "# WHAT ARE PULSARS"
   ]
  },
  {
   "cell_type": "markdown",
   "metadata": {},
   "source": [
    "## ABOUT THE DATASET\n",
    "The Dataset contains images of a part of the sky where the location of a pulsar is confirmed. The images are in the **fits** (Flexible Image Transport System) format. We will be using the **astropy** package to open and access these fits format images. The Data is collected from the Murchison Widefield Array (**MWA**) in Australia. The Dataset is already pre-processed and is centered to the faintest the quasar signal in said image. \n",
    "\n",
    "## MORE ABOUT THE MWA:\n",
    "The Murchison Widefield Array (MWA) is a low-frequency radio telescope in Western Australia. The front-end of the MWA consists of 4,096 spider-like antennas arranged in 256 regular grids called ‘tiles’, spread over several kilometres within the Murchison Radio-astronomy Observatory (MRO).\n",
    "The MWA’s particular attributes include:\n",
    "\n",
    "- a very wide field of view (hundreds of square degrees)\n",
    "- high angular resolution (several arcminutes)\n",
    "- wide frequency range (70–300 MHz) with flexible tuning, and\n",
    "![MWA](./MWA.png)"
   ]
  },
  {
   "cell_type": "markdown",
   "metadata": {},
   "source": [
    "### LOAD DATA\n",
    "**lets get a list of the files in the directory**"
   ]
  },
  {
   "cell_type": "code",
   "execution_count": null,
   "metadata": {},
   "outputs": [],
   "source": [
    "samples = sorted(os.listdir('/Users/jesherjoshua/Downloads/pulsars_fits_11/'))\n",
    "files=sorted(os.listdir('/Users/jesherjoshua/Downloads/pulsars_fits_7330/'))\n",
    "print(\"No. of files in fits_11: \",len(samples))\n",
    "print(\"No.of files in fits_7330: \",len(files))"
   ]
  },
  {
   "cell_type": "code",
   "execution_count": null,
   "metadata": {},
   "outputs": [],
   "source": [
    "type(fits.open('/Users/jesherjoshua/Downloads/pulsars_fits_7330/0000.fits')[0].data)"
   ]
  },
  {
   "cell_type": "code",
   "execution_count": null,
   "metadata": {},
   "outputs": [],
   "source": [
    "fits.open('/Users/jesherjoshua/Downloads/pulsars_fits_7330/0000.fits')[0].data\n"
   ]
  },
  {
   "cell_type": "markdown",
   "metadata": {},
   "source": [
    "**hmm the data is in the form of a numpy array why is that ?**"
   ]
  },
  {
   "cell_type": "markdown",
   "metadata": {},
   "source": [
    "# WHY NUMPY ?\n",
    "**lets find out by performing a few basic arithmetic operations**"
   ]
  },
  {
   "cell_type": "code",
   "execution_count": null,
   "metadata": {},
   "outputs": [],
   "source": [
    "lis= random.sample(range(10**5),1000)\n",
    "np_array=np.array(lis)\n",
    "print(lis)"
   ]
  },
  {
   "cell_type": "markdown",
   "metadata": {},
   "source": [
    "## Numpy array vs List (Mean)"
   ]
  },
  {
   "cell_type": "code",
   "execution_count": null,
   "metadata": {},
   "outputs": [],
   "source": [
    "#list - operations\n",
    "\n",
    "\n",
    "s = \"sum(lis)/len(lis)\"\n",
    "timeit(s,setup =\"import random; lis= random.sample(range(10**5),1000)\",number=1000)"
   ]
  },
  {
   "cell_type": "code",
   "execution_count": null,
   "metadata": {},
   "outputs": [],
   "source": [
    "#using the mean function from the statistics module\n",
    "\n",
    "\n",
    "s=\"mean(lis)\"\n",
    "timeit(s,setup =\"import random; from statistics import mean; lis= random.sample(range(10**5),1000)\",number=1000)\n"
   ]
  },
  {
   "cell_type": "code",
   "execution_count": null,
   "metadata": {},
   "outputs": [],
   "source": [
    "#np\n",
    "\n",
    "\n",
    "s=\"np.divide(np.sum(lis),len(lis))\"\n",
    "timeit(s,setup=\"import numpy as np; import random;lis= np.array(random.sample(range(10**5),1000))\",number=1000)"
   ]
  },
  {
   "cell_type": "markdown",
   "metadata": {},
   "source": [
    "## Numpy array vs List (Median)"
   ]
  },
  {
   "cell_type": "code",
   "execution_count": null,
   "metadata": {},
   "outputs": [],
   "source": [
    "#list - operations\n",
    "\n",
    "s = \"\"\"n=len(lis)\n",
    "mid=int(n/2)\n",
    "list=sorted(lis)\n",
    "if(n%2==0):\n",
    "    median=(list[mid]+list[mid-1])/2\n",
    "else:\n",
    "    median=list[mid]\"\"\"\n",
    "\n",
    "timeit(s,setup=\"import random;lis= random.sample(range(10**5),1000);\",number=1000)"
   ]
  },
  {
   "cell_type": "code",
   "execution_count": null,
   "metadata": {},
   "outputs": [],
   "source": [
    "#using the median method from the statistics module\n",
    "\n",
    "\n",
    "s=\"median(lis)\"\n",
    "\n",
    "timeit(s,setup=\"import random;from statistics import median; lis= random.sample(range(10**5),1000);\",number=1000)"
   ]
  },
  {
   "cell_type": "code",
   "execution_count": null,
   "metadata": {},
   "outputs": [],
   "source": [
    "#np\n",
    "s = \"\"\"median=np.median(lis)\"\"\"\n",
    "timeit(s,setup=\"import numpy as np; import random;lis= np.array(random.sample(range(10**5),1000))\",number=1000)\n"
   ]
  },
  {
   "cell_type": "markdown",
   "metadata": {},
   "source": [
    "# DATA EXPLORATION"
   ]
  },
  {
   "cell_type": "markdown",
   "metadata": {},
   "source": [
    "## Sample Set"
   ]
  },
  {
   "cell_type": "code",
   "execution_count": null,
   "metadata": {},
   "outputs": [],
   "source": [
    "\n",
    "for i in range(10):\n",
    "    fh=fits.open('/Users/jesherjoshua/Downloads/pulsars_fits_11/'+samples[i])\n",
    "    data = fh[0].data\n",
    "    plt.figure(figsize=(50,50))\n",
    "    plt.subplot(1,10,i+1)\n",
    "    #plt.tight_layout()\n",
    "    plt.imshow(data)\n",
    "    #plt.title(files[i])"
   ]
  },
  {
   "cell_type": "markdown",
   "metadata": {},
   "source": [
    "## Actual Dataset"
   ]
  },
  {
   "cell_type": "code",
   "execution_count": null,
   "metadata": {},
   "outputs": [],
   "source": [
    "plt.figure(figsize=(50,50))\n",
    "for i in range(20):\n",
    "    fh=fits.open('/Users/jesherjoshua/Downloads/pulsars_fits_7330/'+files[i+100])\n",
    "    data = fh[0].data\n",
    "    plt.subplot(4,5,i+1,)\n",
    "    #plt.tight_layout()\n",
    "    plt.imshow(data)\n",
    "    plt.title(files[i])"
   ]
  },
  {
   "cell_type": "markdown",
   "metadata": {},
   "source": [
    "# RECOGNIZING PULSARS"
   ]
  },
  {
   "cell_type": "markdown",
   "metadata": {},
   "source": [
    "# MEAN STACKING TO DETECT UNDERLYING PULSARS"
   ]
  },
  {
   "cell_type": "markdown",
   "metadata": {},
   "source": [
    "## Using Minimal Sample Set"
   ]
  },
  {
   "cell_type": "code",
   "execution_count": null,
   "metadata": {},
   "outputs": [],
   "source": [
    "data=0\n",
    "for i in range(len(samples)):\n",
    "    data+=fits.open('/Users/jesherjoshua/Downloads/pulsars_fits_11/'+samples[i])[0].data\n",
    "avg=data/len(samples)\n",
    "plt.imshow(avg)"
   ]
  },
  {
   "cell_type": "code",
   "execution_count": null,
   "metadata": {},
   "outputs": [],
   "source": [
    "type(data)"
   ]
  },
  {
   "cell_type": "markdown",
   "metadata": {},
   "source": [
    "## Using a Larger Dataset"
   ]
  },
  {
   "cell_type": "code",
   "execution_count": null,
   "metadata": {},
   "outputs": [],
   "source": [
    "acc=0\n",
    "start=time()\n",
    "for i in range(len(files)):\n",
    "    acc+=fits.open('/Users/jesherjoshua/Downloads/pulsars_fits_7330/'+files[i])[0].data\n",
    "mean=acc/len(files)\n",
    "end=time()-start\n",
    "print('Time taken: ',end)\n",
    "plt.imshow(mean)"
   ]
  },
  {
   "cell_type": "code",
   "execution_count": null,
   "metadata": {},
   "outputs": [],
   "source": [
    "acc=0\n",
    "start=time()\n",
    "for i in range(len(files)):\n",
    "    acc+=fits.open('/Users/jesherjoshua/Downloads/pulsars_fits_7330/'+files[i])[0].data\n",
    "mean=np.divide(acc,len(files))\n",
    "end=time()-start\n",
    "print('Time taken: ',end)\n",
    "plt.imshow(mean)"
   ]
  },
  {
   "cell_type": "markdown",
   "metadata": {},
   "source": [
    "**Mean Stacking** with the Sample Set reveals the presence of a **Pulsar**. But, doing the same with the entire dataset shows the lack of a **Pulsar**\n",
    "\n",
    "\n",
    "\n",
    "### **Did the computer make a mistake? Where did the Pulsar go? is there another way?**"
   ]
  },
  {
   "cell_type": "markdown",
   "metadata": {},
   "source": [
    "# ANALYZING USING MEDIAN STACK"
   ]
  },
  {
   "cell_type": "markdown",
   "metadata": {},
   "source": [
    "## Using all the data"
   ]
  },
  {
   "cell_type": "code",
   "execution_count": null,
   "metadata": {},
   "outputs": [],
   "source": [
    "l=[]\n",
    "start=time()\n",
    "for i in range(len(files)):\n",
    "    l.append(fits.open('/Users/jesherjoshua/Downloads/pulsars_fits_7330/'+files[i])[0].data)\n",
    "median_stack=np.dstack(l)\n",
    "median=np.median(median_stack,axis=2)\n",
    "end=time()-start\n",
    "print('Time taken: ',end)\n",
    "plt.imshow(median)"
   ]
  },
  {
   "cell_type": "code",
   "execution_count": null,
   "metadata": {},
   "outputs": [],
   "source": [
    "median_stack.ndim"
   ]
  },
  {
   "cell_type": "markdown",
   "metadata": {},
   "source": [
    "## Using the Minimal Sample Set"
   ]
  },
  {
   "cell_type": "code",
   "execution_count": null,
   "metadata": {},
   "outputs": [],
   "source": [
    "l=[]\n",
    "start=time()\n",
    "for i in range(len(samples)):\n",
    "    l.append(fits.open('/Users/jesherjoshua/Downloads/pulsars_fits_11/'+samples[i])[0].data)\n",
    "median_stack=np.dstack(l)\n",
    "median=np.median(median_stack,axis=2)\n",
    "end=time()-start\n",
    "print('Time taken: ',end)\n",
    "plt.imshow(median)"
   ]
  },
  {
   "cell_type": "markdown",
   "metadata": {},
   "source": [
    "# Why does the median perform better than the mean at this task ?\n",
    "\n",
    "**let's see an example**"
   ]
  },
  {
   "cell_type": "code",
   "execution_count": null,
   "metadata": {},
   "outputs": [],
   "source": [
    "arr=np.array([1,2,3,4,5,10,25,1000])\n",
    "print(\"Mean of the array: \",np.mean(arr))\n",
    "print(\"Median of the array: \",np.median(arr))"
   ]
  },
  {
   "cell_type": "code",
   "execution_count": null,
   "metadata": {},
   "outputs": [],
   "source": [
    "plt.scatter(arr,arr)\n",
    "plt.scatter(np.mean(arr),np.mean(arr))\n",
    "plt.scatter(np.median(arr),np.median(arr))\n",
    "plt.legend(['Data','Mean','Median'])"
   ]
  },
  {
   "cell_type": "markdown",
   "metadata": {},
   "source": [
    "We infer from the above experiment:\n",
    "**The Median is more resistant to outliers rather than the Mean**"
   ]
  },
  {
   "cell_type": "code",
   "execution_count": null,
   "metadata": {},
   "outputs": [],
   "source": [
    "import running_median as rm\n",
    "import matplotlib.pyplot as plt\n",
    "plt.imshow(rm.median_approx_fits('./pulsars_fits_11/'+samples))"
   ]
  },
  {
   "cell_type": "markdown",
   "metadata": {},
   "source": []
  }
 ],
 "metadata": {
  "kernelspec": {
   "display_name": "Python 3.9.13 64-bit",
   "language": "python",
   "name": "python3"
  },
  "language_info": {
   "codemirror_mode": {
    "name": "ipython",
    "version": 3
   },
   "file_extension": ".py",
   "mimetype": "text/x-python",
   "name": "python",
   "nbconvert_exporter": "python",
   "pygments_lexer": "ipython3",
   "version": "3.9.13"
  },
  "orig_nbformat": 4,
  "vscode": {
   "interpreter": {
    "hash": "b0fa6594d8f4cbf19f97940f81e996739fb7646882a419484c72d19e05852a7e"
   }
  }
 },
 "nbformat": 4,
 "nbformat_minor": 2
}
